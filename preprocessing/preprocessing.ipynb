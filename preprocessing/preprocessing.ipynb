{
 "cells": [
  {
   "cell_type": "markdown",
   "id": "fb861e81-8564-4107-82cf-b14a07c4834a",
   "metadata": {
    "editable": true,
    "slideshow": {
     "slide_type": ""
    },
    "tags": []
   },
   "source": [
    "## Setting up Spark Session / Context"
   ]
  },
  {
   "cell_type": "code",
   "execution_count": 1,
   "id": "8945a531-2b34-46d6-b30f-517765260936",
   "metadata": {
    "editable": true,
    "slideshow": {
     "slide_type": ""
    },
    "tags": []
   },
   "outputs": [
    {
     "name": "stderr",
     "output_type": "stream",
     "text": [
      "Setting default log level to \"WARN\".\n",
      "To adjust logging level use sc.setLogLevel(newLevel). For SparkR, use setLogLevel(newLevel).\n",
      "25/03/09 15:26:41 WARN NativeCodeLoader: Unable to load native-hadoop library for your platform... using builtin-java classes where applicable\n"
     ]
    }
   ],
   "source": [
    "from pyspark.sql import SparkSession\n",
    "from operator import add\n",
    "\n",
    "spark_session = SparkSession.builder\\\n",
    "        .master(\"spark://192.168.2.156:7077\") \\\n",
    "        .appName(\"Project Group 32\")\\\n",
    "        .config(\"spark.dynamicAllocation.enabled\", True)\\\n",
    "        .config(\"spark.dynamicAllocation.shuffleTracking.enabled\",True)\\\n",
    "        .config(\"spark.shuffle.service.enabled\", False)\\\n",
    "        .config(\"spark.dynamicAllocation.executorIdleTimeout\",\"120s\")\\\n",
    "        .config(\"spark.executor.cores\", 2)\\\n",
    "        .config(\"spark.driver.port\",9999)\\\n",
    "        .config(\"spark.blockManager.port\",10005)\\\n",
    "        .getOrCreate()\n",
    "\n",
    "# RDD API\n",
    "spark_context = spark_session.sparkContext\n",
    "spark_context.setLogLevel(\"ERROR\")"
   ]
  },
  {
   "cell_type": "markdown",
   "id": "4b7d29bd-bfda-477c-be1e-c3852e65deec",
   "metadata": {},
   "source": [
    "## Loading the data from HDFS"
   ]
  },
  {
   "cell_type": "code",
   "execution_count": 2,
   "id": "e26cf81e-66b1-4e10-a6c2-c8761e614e4c",
   "metadata": {},
   "outputs": [
    {
     "name": "stderr",
     "output_type": "stream",
     "text": [
      "[Stage 0:>                                                          (0 + 1) / 1]"
     ]
    },
    {
     "name": "stdout",
     "output_type": "stream",
     "text": [
      "��{\u0000\"\u0000a\u0000u\u0000t\u0000h\u0000o\u0000r\u0000\"\u0000:\u0000\"\u0000r\u0000a\u0000y\u0000s\u0000o\u0000f\u0000d\u0000a\u0000r\u0000k\u0000m\u0000a\u0000t\u0000t\u0000e\u0000r\u0000\"\u0000,\u0000\"\u0000b\u0000o\u0000d\u0000y\u0000\"\u0000:\u0000\"\u0000I\u0000 \u0000t\u0000h\u0000i\u0000n\u0000k\u0000 \u0000i\u0000t\u0000 \u0000s\u0000h\u0000o\u0000u\u0000l\u0000d\u0000 \u0000b\u0000e\u0000 \u0000f\u0000i\u0000x\u0000e\u0000d\u0000 \u0000o\u0000n\u0000 \u0000e\u0000i\u0000t\u0000h\u0000e\u0000r\u0000 \u0000U\u0000T\u0000C\u0000 \u0000s\u0000t\u0000a\u0000n\u0000d\u0000a\u0000r\u0000d\u0000 \u0000o\u0000r\u0000 \u0000U\u0000T\u0000C\u0000+\u00001\u0000 \u0000y\u0000e\u0000a\u0000r\u0000 \u0000a\u0000r\u0000o\u0000u\u0000n\u0000d\u0000,\u0000 \u0000w\u0000i\u0000t\u0000h\u0000 \u0000t\u0000h\u0000e\u0000 \u0000c\u0000u\u0000r\u0000r\u0000e\u0000n\u0000t\u0000 \u0000z\u0000o\u0000n\u0000e\u0000 \u0000o\u0000f\u0000f\u0000s\u0000e\u0000t\u0000s\u0000.\u0000\\\u0000n\u0000\\\u0000n\u0000M\u0000o\u0000v\u0000i\u0000n\u0000g\u0000 \u0000t\u0000i\u0000m\u0000e\u0000s\u0000c\u0000a\u0000l\u0000e\u0000s\u0000 \u0000a\u0000d\u0000d\u0000 \u0000a\u0000 \u0000l\u0000o\u0000t\u0000 \u0000o\u0000f\u0000 \u0000c\u0000o\u0000m\u0000p\u0000l\u0000e\u0000x\u0000i\u0000t\u0000y\u0000 \u0000t\u0000o\u0000 \u0000t\u0000h\u0000e\u0000 \u0000i\u0000m\u0000p\u0000l\u0000e\u0000m\u0000e\u0000n\u0000t\u0000a\u0000t\u0000i\u0000o\u0000n\u0000 \u0000o\u0000f\u0000 \u0000t\u0000i\u0000m\u0000e\u0000k\u0000e\u0000e\u0000p\u0000i\u0000n\u0000g\u0000 \u0000s\u0000y\u0000s\u0000t\u0000e\u0000m\u0000s\u0000 \u0000a\u0000n\u0000d\u0000 \u0000h\u0000a\u0000v\u0000e\u0000 \u0000[\u0000d\u0000u\u0000b\u0000i\u0000o\u0000u\u0000s\u0000 \u0000v\u0000a\u0000l\u0000u\u0000e\u0000]\u0000(\u0000 \u0000\\\u0000n\u0000\\\u0000n\u0000I\u0000 \u0000t\u0000h\u0000i\u0000n\u0000k\u0000 \u0000s\u0000e\u0000a\u0000s\u0000o\u0000n\u0000a\u0000l\u0000 \u0000s\u0000h\u0000i\u0000f\u0000t\u0000i\u0000n\u0000g\u0000 \u0000t\u0000i\u0000m\u0000e\u0000 \u0000m\u0000a\u0000d\u0000e\u0000 \u0000s\u0000e\u0000n\u0000s\u0000e\u0000 \u0000i\u0000n\u0000 \u0000t\u0000h\u0000e\u0000 \u0000p\u0000r\u0000e\u0000-\u0000e\u0000l\u0000e\u0000c\u0000t\u0000r\u0000i\u0000c\u0000 \u0000p\u0000a\u0000s\u0000t\u0000,\u0000 \u0000w\u0000h\u0000e\u0000n\u0000 \u0000t\u0000i\u0000m\u0000e\u0000k\u0000e\u0000e\u0000p\u0000i\u0000n\u0000g\u0000 \u0000w\u0000a\u0000s\u0000 \u0000m\u0000o\u0000r\u0000e\u0000 \u0000f\u0000l\u0000e\u0000x\u0000i\u0000b\u0000l\u0000e\u0000 \u0000a\u0000n\u0000d\u0000 \u0000a\u0000r\u0000t\u0000i\u0000f\u0000i\u0000c\u0000i\u0000a\u0000l\u0000 \u0000l\u0000i\u0000g\u0000h\u0000t\u0000 \u0000w\u0000a\u0000s\u0000 \u0000i\u0000n\u0000e\u0000f\u0000f\u0000i\u0000c\u0000i\u0000e\u0000n\u0000t\u0000 \u0000a\u0000n\u0000d\u0000 \u0000o\u0000f\u0000t\u0000e\u0000n\u0000 \u0000d\u0000a\u0000n\u0000g\u0000e\u0000r\u0000o\u0000u\u0000s\u0000.\u0000 \u0000\\\u0000n\u0000\\\u0000n\u0000N\u0000o\u0000w\u0000 \u0000w\u0000e\u0000 \u0000h\u0000a\u0000v\u0000e\u0000 \u0000m\u0000a\u0000c\u0000h\u0000i\u0000n\u0000e\u0000s\u0000 \u0000t\u0000h\u0000a\u0000t\u0000 \u0000w\u0000o\u0000r\u0000k\u0000 \u0000e\u0000a\u0000s\u0000i\u0000l\u0000y\u0000 \u0000w\u0000i\u0000t\u0000h\u0000 \u0000s\u0000i\u0000m\u0000p\u0000l\u0000e\u0000 \u0000t\u0000i\u0000m\u0000e\u0000k\u0000e\u0000e\u0000p\u0000i\u0000n\u0000g\u0000 \u0000r\u0000u\u0000l\u0000e\u0000s\u0000,\u0000 \u0000a\u0000n\u0000d\u0000 \u0000i\u0000t\u0000'\u0000s\u0000 \u0000m\u0000o\u0000r\u0000e\u0000 \u0000b\u0000e\u0000n\u0000e\u0000f\u0000i\u0000c\u0000i\u0000a\u0000l\u0000 \u0000t\u0000o\u0000 \u0000s\u0000p\u0000e\u0000n\u0000d\u0000 \u0000a\u0000 \u0000s\u0000m\u0000a\u0000l\u0000l\u0000 \u0000a\u0000m\u0000o\u0000u\u0000n\u0000t\u0000 \u0000o\u0000n\u0000 \u0000e\u0000n\u0000e\u0000r\u0000g\u0000y\u0000 \u0000f\u0000o\u0000r\u0000 \u0000l\u0000i\u0000g\u0000h\u0000t\u0000i\u0000n\u0000g\u0000,\u0000 \u0000a\u0000n\u0000d\u0000 \u0000s\u0000a\u0000v\u0000e\u0000 \u0000t\u0000h\u0000e\u0000 \u0000l\u0000a\u0000r\u0000g\u0000e\u0000r\u0000 \u0000c\u0000o\u0000s\u0000t\u0000 \u0000o\u0000f\u0000 \u0000e\u0000n\u0000g\u0000i\u0000n\u0000e\u0000e\u0000r\u0000i\u0000n\u0000g\u0000 \u0000t\u0000h\u0000i\u0000n\u0000g\u0000s\u0000 \u0000t\u0000o\u0000 \u0000w\u0000o\u0000r\u0000k\u0000 \u0000w\u0000i\u0000t\u0000h\u0000 \u0000t\u0000h\u0000e\u0000 \u0000c\u0000o\u0000m\u0000p\u0000l\u0000e\u0000x\u0000 \u0000t\u0000i\u0000m\u0000e\u0000k\u0000e\u0000e\u0000p\u0000i\u0000n\u0000g\u0000 \u0000r\u0000u\u0000l\u0000e\u0000s\u0000,\u0000 \u0000a\u0000s\u0000 \u0000w\u0000e\u0000l\u0000l\u0000 \u0000a\u0000s\u0000 \u0000s\u0000a\u0000v\u0000i\u0000n\u0000g\u0000 \u0000t\u0000h\u0000e\u0000 \u0000i\u0000r\u0000r\u0000i\u0000t\u0000a\u0000t\u0000i\u0000o\u0000n\u0000 \u0000t\u0000o\u0000 \u0000h\u0000u\u0000m\u0000a\u0000n\u0000s\u0000.\u0000\\\u0000n\u0000\\\u0000n\u0000L\u0000i\u0000g\u0000h\u0000t\u0000i\u0000n\u0000g\u0000 \u0000h\u0000a\u0000s\u0000 \u0000g\u0000o\u0000t\u0000t\u0000e\u0000n\u0000 \u0000m\u0000u\u0000c\u0000h\u0000 \u0000m\u0000o\u0000r\u0000e\u0000 \u0000e\u0000f\u0000f\u0000i\u0000c\u0000i\u0000e\u0000n\u0000t\u0000 \u0000o\u0000v\u0000e\u0000r\u0000 \u0000t\u0000i\u0000m\u0000e\u0000;\u0000 \u0000w\u0000e\u0000 \u0000c\u0000a\u0000n\u0000 \u0000s\u0000q\u0000u\u0000e\u0000e\u0000z\u0000e\u0000 \u0000o\u0000u\u0000t\u0000 \u0000a\u0000 \u0000l\u0000o\u0000t\u0000 \u0000m\u0000o\u0000r\u0000e\u0000 \u0000p\u0000h\u0000o\u0000t\u0000o\u0000n\u0000s\u0000 \u0000p\u0000e\u0000r\u0000 \u0000u\u0000n\u0000i\u0000t\u0000 \u0000o\u0000f\u0000 \u0000e\u0000n\u0000e\u0000r\u0000g\u0000y\u0000 \u0000f\u0000r\u0000o\u0000m\u0000 \u0000a\u0000 \u00002\u00000\u00001\u00002\u0000 \u0000C\u0000F\u0000L\u0000 \u0000o\u0000r\u0000 \u0000L\u0000E\u0000D\u0000 \u0000t\u0000h\u0000a\u0000n\u0000 \u0000a\u0000 \u0000c\u0000a\u0000n\u0000d\u0000l\u0000e\u0000 \u0000c\u0000o\u0000u\u0000l\u0000d\u0000 \u0000i\u0000n\u0000 \u00001\u00007\u00008\u00000\u0000,\u0000 \u0000o\u0000r\u0000 \u0000a\u0000 \u0000l\u0000i\u0000g\u0000h\u0000t\u0000b\u0000u\u0000l\u0000b\u0000 \u0000c\u0000o\u0000u\u0000l\u0000d\u0000 \u0000i\u0000n\u0000 \u00001\u00009\u00005\u00000\u0000.\u0000 \u0000\\\u0000n\u0000\\\u0000n\u0000T\u0000h\u0000e\u0000r\u0000e\u0000'\u0000s\u0000 \u0000a\u0000 \u0000l\u0000o\u0000t\u0000 \u0000o\u0000f\u0000 \u0000r\u0000o\u0000o\u0000m\u0000 \u0000f\u0000o\u0000r\u0000 \u0000i\u0000m\u0000p\u0000r\u0000o\u0000v\u0000e\u0000m\u0000e\u0000n\u0000t\u0000 \u0000i\u0000n\u0000 \u0000h\u0000o\u0000w\u0000 \u0000w\u0000e\u0000 \u0000u\u0000s\u0000e\u0000 \u0000l\u0000i\u0000g\u0000h\u0000t\u0000s\u0000 \u0000a\u0000s\u0000 \u0000w\u0000e\u0000l\u0000l\u0000;\u0000 \u0000a\u0000s\u0000 \u0000l\u0000i\u0000g\u0000h\u0000t\u0000i\u0000n\u0000g\u0000 \u0000c\u0000o\u0000n\u0000t\u0000r\u0000o\u0000l\u0000 \u0000g\u0000e\u0000t\u0000s\u0000 \u0000m\u0000o\u0000r\u0000e\u0000 \u0000i\u0000n\u0000t\u0000e\u0000l\u0000l\u0000i\u0000g\u0000e\u0000n\u0000t\u0000,\u0000 \u0000t\u0000h\u0000e\u0000r\u0000e\u0000 \u0000w\u0000i\u0000l\u0000l\u0000 \u0000b\u0000e\u0000 \u0000a\u0000 \u0000l\u0000o\u0000t\u0000 \u0000o\u0000f\u0000 \u0000s\u0000a\u0000v\u0000i\u0000n\u0000g\u0000s\u0000 \u0000f\u0000r\u0000o\u0000m\u0000 \u0000n\u0000o\u0000t\u0000 \u0000i\u0000l\u0000l\u0000u\u0000m\u0000i\u0000n\u0000a\u0000t\u0000i\u0000n\u0000g\u0000 \u0000i\u0000n\u0000a\u0000c\u0000t\u0000i\u0000v\u0000e\u0000 \u0000s\u0000p\u0000a\u0000c\u0000e\u0000s\u0000 \u0000c\u0000o\u0000n\u0000s\u0000t\u0000a\u0000n\u0000t\u0000l\u0000y\u0000.\u0000\\\u0000n\u0000\\\u0000n\u0000t\u0000l\u0000;\u0000d\u0000r\u0000:\u0000 \u0000S\u0000h\u0000i\u0000f\u0000t\u0000i\u0000n\u0000g\u0000 \u0000s\u0000e\u0000a\u0000s\u0000o\u0000n\u0000a\u0000l\u0000 \u0000t\u0000i\u0000m\u0000e\u0000 \u0000i\u0000s\u0000 \u0000n\u0000o\u0000 \u0000l\u0000o\u0000n\u0000g\u0000e\u0000r\u0000 \u0000w\u0000o\u0000r\u0000t\u0000h\u0000 \u0000i\u0000t\u0000.\u0000\"\u0000,\u0000\"\u0000n\u0000o\u0000r\u0000m\u0000a\u0000l\u0000i\u0000z\u0000e\u0000d\u0000B\u0000o\u0000d\u0000y\u0000\"\u0000:\u0000\"\u0000I\u0000 \u0000t\u0000h\u0000i\u0000n\u0000k\u0000 \u0000i\u0000t\u0000 \u0000s\u0000h\u0000o\u0000u\u0000l\u0000d\u0000 \u0000b\u0000e\u0000 \u0000f\u0000i\u0000x\u0000e\u0000d\u0000 \u0000o\u0000n\u0000 \u0000e\u0000i\u0000t\u0000h\u0000e\u0000r\u0000 \u0000U\u0000T\u0000C\u0000 \u0000s\u0000t\u0000a\u0000n\u0000d\u0000a\u0000r\u0000d\u0000 \u0000o\u0000r\u0000 \u0000U\u0000T\u0000C\u0000+\u00001\u0000 \u0000y\u0000e\u0000a\u0000r\u0000 \u0000a\u0000r\u0000o\u0000u\u0000n\u0000d\u0000,\u0000 \u0000w\u0000i\u0000t\u0000h\u0000 \u0000t\u0000h\u0000e\u0000 \u0000c\u0000u\u0000r\u0000r\u0000e\u0000n\u0000t\u0000 \u0000z\u0000o\u0000n\u0000e\u0000 \u0000o\u0000f\u0000f\u0000s\u0000e\u0000t\u0000s\u0000.\u0000 \u0000\\\u0000n\u0000 \u0000M\u0000o\u0000v\u0000i\u0000n\u0000g\u0000 \u0000t\u0000i\u0000m\u0000e\u0000s\u0000c\u0000a\u0000l\u0000e\u0000s\u0000 \u0000a\u0000d\u0000d\u0000 \u0000a\u0000 \u0000l\u0000o\u0000t\u0000 \u0000o\u0000f\u0000 \u0000c\u0000o\u0000m\u0000p\u0000l\u0000e\u0000x\u0000i\u0000t\u0000y\u0000 \u0000t\u0000o\u0000 \u0000t\u0000h\u0000e\u0000 \u0000i\u0000m\u0000p\u0000l\u0000e\u0000m\u0000e\u0000n\u0000t\u0000a\u0000t\u0000i\u0000o\u0000n\u0000 \u0000o\u0000f\u0000 \u0000t\u0000i\u0000m\u0000e\u0000k\u0000e\u0000e\u0000p\u0000i\u0000n\u0000g\u0000 \u0000s\u0000y\u0000s\u0000t\u0000e\u0000m\u0000s\u0000 \u0000a\u0000n\u0000d\u0000 \u0000h\u0000a\u0000v\u0000e\u0000 \u0000[\u0000d\u0000u\u0000b\u0000i\u0000o\u0000u\u0000s\u0000 \u0000v\u0000a\u0000l\u0000u\u0000e\u0000]\u0000(\u0000 \u0000\\\u0000n\u0000 \u0000I\u0000 \u0000t\u0000h\u0000i\u0000n\u0000k\u0000 \u0000s\u0000e\u0000a\u0000s\u0000o\u0000n\u0000a\u0000l\u0000 \u0000s\u0000h\u0000i\u0000f\u0000t\u0000i\u0000n\u0000g\u0000 \u0000t\u0000i\u0000m\u0000e\u0000 \u0000m\u0000a\u0000d\u0000e\u0000 \u0000s\u0000e\u0000n\u0000s\u0000e\u0000 \u0000i\u0000n\u0000 \u0000t\u0000h\u0000e\u0000 \u0000p\u0000r\u0000e\u0000-\u0000e\u0000l\u0000e\u0000c\u0000t\u0000r\u0000i\u0000c\u0000 \u0000p\u0000a\u0000s\u0000t\u0000,\u0000 \u0000w\u0000h\u0000e\u0000n\u0000 \u0000t\u0000i\u0000m\u0000e\u0000k\u0000e\u0000e\u0000p\u0000i\u0000n\u0000g\u0000 \u0000w\u0000a\u0000s\u0000 \u0000m\u0000o\u0000r\u0000e\u0000 \u0000f\u0000l\u0000e\u0000x\u0000i\u0000b\u0000l\u0000e\u0000 \u0000a\u0000n\u0000d\u0000 \u0000a\u0000r\u0000t\u0000i\u0000f\u0000i\u0000c\u0000i\u0000a\u0000l\u0000 \u0000l\u0000i\u0000g\u0000h\u0000t\u0000 \u0000w\u0000a\u0000s\u0000 \u0000i\u0000n\u0000e\u0000f\u0000f\u0000i\u0000c\u0000i\u0000e\u0000n\u0000t\u0000 \u0000a\u0000n\u0000d\u0000 \u0000o\u0000f\u0000t\u0000e\u0000n\u0000 \u0000d\u0000a\u0000n\u0000g\u0000e\u0000r\u0000o\u0000u\u0000s\u0000.\u0000 \u0000\\\u0000n\u0000 \u0000N\u0000o\u0000w\u0000 \u0000w\u0000e\u0000 \u0000h\u0000a\u0000v\u0000e\u0000 \u0000m\u0000a\u0000c\u0000h\u0000i\u0000n\u0000e\u0000s\u0000 \u0000t\u0000h\u0000a\u0000t\u0000 \u0000w\u0000o\u0000r\u0000k\u0000 \u0000e\u0000a\u0000s\u0000i\u0000l\u0000y\u0000 \u0000w\u0000i\u0000t\u0000h\u0000 \u0000s\u0000i\u0000m\u0000p\u0000l\u0000e\u0000 \u0000t\u0000i\u0000m\u0000e\u0000k\u0000e\u0000e\u0000p\u0000i\u0000n\u0000g\u0000 \u0000r\u0000u\u0000l\u0000e\u0000s\u0000,\u0000 \u0000a\u0000n\u0000d\u0000 \u0000i\u0000t\u0000'\u0000s\u0000 \u0000m\u0000o\u0000r\u0000e\u0000 \u0000b\u0000e\u0000n\u0000e\u0000f\u0000i\u0000c\u0000i\u0000a\u0000l\u0000 \u0000t\u0000o\u0000 \u0000s\u0000p\u0000e\u0000n\u0000d\u0000 \u0000a\u0000 \u0000s\u0000m\u0000a\u0000l\u0000l\u0000 \u0000a\u0000m\u0000o\u0000u\u0000n\u0000t\u0000 \u0000o\u0000n\u0000 \u0000e\u0000n\u0000e\u0000r\u0000g\u0000y\u0000 \u0000f\u0000o\u0000r\u0000 \u0000l\u0000i\u0000g\u0000h\u0000t\u0000i\u0000n\u0000g\u0000,\u0000 \u0000a\u0000n\u0000d\u0000 \u0000s\u0000a\u0000v\u0000e\u0000 \u0000t\u0000h\u0000e\u0000 \u0000l\u0000a\u0000r\u0000g\u0000e\u0000r\u0000 \u0000c\u0000o\u0000s\u0000t\u0000 \u0000o\u0000f\u0000 \u0000e\u0000n\u0000g\u0000i\u0000n\u0000e\u0000e\u0000r\u0000i\u0000n\u0000g\u0000 \u0000t\u0000h\u0000i\u0000n\u0000g\u0000s\u0000 \u0000t\u0000o\u0000 \u0000w\u0000o\u0000r\u0000k\u0000 \u0000w\u0000i\u0000t\u0000h\u0000 \u0000t\u0000h\u0000e\u0000 \u0000c\u0000o\u0000m\u0000p\u0000l\u0000e\u0000x\u0000 \u0000t\u0000i\u0000m\u0000e\u0000k\u0000e\u0000e\u0000p\u0000i\u0000n\u0000g\u0000 \u0000r\u0000u\u0000l\u0000e\u0000s\u0000,\u0000 \u0000a\u0000s\u0000 \u0000w\u0000e\u0000l\u0000l\u0000 \u0000a\u0000s\u0000 \u0000s\u0000a\u0000v\u0000i\u0000n\u0000g\u0000 \u0000t\u0000h\u0000e\u0000 \u0000i\u0000r\u0000r\u0000i\u0000t\u0000a\u0000t\u0000i\u0000o\u0000n\u0000 \u0000t\u0000o\u0000 \u0000h\u0000u\u0000m\u0000a\u0000n\u0000s\u0000.\u0000 \u0000\\\u0000n\u0000 \u0000L\u0000i\u0000g\u0000h\u0000t\u0000i\u0000n\u0000g\u0000 \u0000h\u0000a\u0000s\u0000 \u0000g\u0000o\u0000t\u0000t\u0000e\u0000n\u0000 \u0000m\u0000u\u0000c\u0000h\u0000 \u0000m\u0000o\u0000r\u0000e\u0000 \u0000e\u0000f\u0000f\u0000i\u0000c\u0000i\u0000e\u0000n\u0000t\u0000 \u0000o\u0000v\u0000e\u0000r\u0000 \u0000t\u0000i\u0000m\u0000e\u0000;\u0000 \u0000w\u0000e\u0000 \u0000c\u0000a\u0000n\u0000 \u0000s\u0000q\u0000u\u0000e\u0000e\u0000z\u0000e\u0000 \u0000o\u0000u\u0000t\u0000 \u0000a\u0000 \u0000l\u0000o\u0000t\u0000 \u0000m\u0000o\u0000r\u0000e\u0000 \u0000p\u0000h\u0000o\u0000t\u0000o\u0000n\u0000s\u0000 \u0000p\u0000e\u0000r\u0000 \u0000u\u0000n\u0000i\u0000t\u0000 \u0000o\u0000f\u0000 \u0000e\u0000n\u0000e\u0000r\u0000g\u0000y\u0000 \u0000f\u0000r\u0000o\u0000m\u0000 \u0000a\u0000 \u00002\u00000\u00001\u00002\u0000 \u0000C\u0000F\u0000L\u0000 \u0000o\u0000r\u0000 \u0000L\u0000E\u0000D\u0000 \u0000t\u0000h\u0000a\u0000n\u0000 \u0000a\u0000 \u0000c\u0000a\u0000n\u0000d\u0000l\u0000e\u0000 \u0000c\u0000o\u0000u\u0000l\u0000d\u0000 \u0000i\u0000n\u0000 \u00001\u00007\u00008\u00000\u0000,\u0000 \u0000o\u0000r\u0000 \u0000a\u0000 \u0000l\u0000i\u0000g\u0000h\u0000t\u0000b\u0000u\u0000l\u0000b\u0000 \u0000c\u0000o\u0000u\u0000l\u0000d\u0000 \u0000i\u0000n\u0000 \u00001\u00009\u00005\u00000\u0000.\u0000 \u0000\\\u0000n\u0000 \u0000T\u0000h\u0000e\u0000r\u0000e\u0000'\u0000s\u0000 \u0000a\u0000 \u0000l\u0000o\u0000t\u0000 \u0000o\u0000f\u0000 \u0000r\u0000o\u0000o\u0000m\u0000 \u0000f\u0000o\u0000r\u0000 \u0000i\u0000m\u0000p\u0000r\u0000o\u0000v\u0000e\u0000m\u0000e\u0000n\u0000t\u0000 \u0000i\u0000n\u0000 \u0000h\u0000o\u0000w\u0000 \u0000w\u0000e\u0000 \u0000u\u0000s\u0000e\u0000 \u0000l\u0000i\u0000g\u0000h\u0000t\u0000s\u0000 \u0000a\u0000s\u0000 \u0000w\u0000e\u0000l\u0000l\u0000;\u0000 \u0000a\u0000s\u0000 \u0000l\u0000i\u0000g\u0000h\u0000t\u0000i\u0000n\u0000g\u0000 \u0000c\u0000o\u0000n\u0000t\u0000r\u0000o\u0000l\u0000 \u0000g\u0000e\u0000t\u0000s\u0000 \u0000m\u0000o\u0000r\u0000e\u0000 \u0000i\u0000n\u0000t\u0000e\u0000l\u0000l\u0000i\u0000g\u0000e\u0000n\u0000t\u0000,\u0000 \u0000t\u0000h\u0000e\u0000r\u0000e\u0000 \u0000w\u0000i\u0000l\u0000l\u0000 \u0000b\u0000e\u0000 \u0000a\u0000 \u0000l\u0000o\u0000t\u0000 \u0000o\u0000f\u0000 \u0000s\u0000a\u0000v\u0000i\u0000n\u0000g\u0000s\u0000 \u0000f\u0000r\u0000o\u0000m\u0000 \u0000n\u0000o\u0000t\u0000 \u0000i\u0000l\u0000l\u0000u\u0000m\u0000i\u0000n\u0000a\u0000t\u0000i\u0000n\u0000g\u0000 \u0000i\u0000n\u0000a\u0000c\u0000t\u0000i\u0000v\u0000e\u0000 \u0000s\u0000p\u0000a\u0000c\u0000e\u0000s\u0000 \u0000c\u0000o\u0000n\u0000s\u0000t\u0000a\u0000n\u0000t\u0000l\u0000y\u0000.\u0000 \u0000\\\u0000n\u0000 \u0000t\u0000l\u0000;\u0000d\u0000r\u0000:\u0000 \u0000S\u0000h\u0000i\u0000f\u0000t\u0000i\u0000n\u0000g\u0000 \u0000s\u0000e\u0000a\u0000s\u0000o\u0000n\u0000a\u0000l\u0000 \u0000t\u0000i\u0000m\u0000e\u0000 \u0000i\u0000s\u0000 \u0000n\u0000o\u0000 \u0000l\u0000o\u0000n\u0000g\u0000e\u0000r\u0000 \u0000w\u0000o\u0000r\u0000t\u0000h\u0000 \u0000i\u0000t\u0000.\u0000 \u0000\\\u0000n\u0000\"\u0000,\u0000\"\u0000c\u0000o\u0000n\u0000t\u0000e\u0000n\u0000t\u0000\"\u0000:\u0000\"\u0000I\u0000 \u0000t\u0000h\u0000i\u0000n\u0000k\u0000 \u0000i\u0000t\u0000 \u0000s\u0000h\u0000o\u0000u\u0000l\u0000d\u0000 \u0000b\u0000e\u0000 \u0000f\u0000i\u0000x\u0000e\u0000d\u0000 \u0000o\u0000n\u0000 \u0000e\u0000i\u0000t\u0000h\u0000e\u0000r\u0000 \u0000U\u0000T\u0000C\u0000 \u0000s\u0000t\u0000a\u0000n\u0000d\u0000a\u0000r\u0000d\u0000 \u0000o\u0000r\u0000 \u0000U\u0000T\u0000C\u0000+\u00001\u0000 \u0000y\u0000e\u0000a\u0000r\u0000 \u0000a\u0000r\u0000o\u0000u\u0000n\u0000d\u0000,\u0000 \u0000w\u0000i\u0000t\u0000h\u0000 \u0000t\u0000h\u0000e\u0000 \u0000c\u0000u\u0000r\u0000r\u0000e\u0000n\u0000t\u0000 \u0000z\u0000o\u0000n\u0000e\u0000 \u0000o\u0000f\u0000f\u0000s\u0000e\u0000t\u0000s\u0000.\u0000 \u0000\\\u0000n\u0000 \u0000M\u0000o\u0000v\u0000i\u0000n\u0000g\u0000 \u0000t\u0000i\u0000m\u0000e\u0000s\u0000c\u0000a\u0000l\u0000e\u0000s\u0000 \u0000a\u0000d\u0000d\u0000 \u0000a\u0000 \u0000l\u0000o\u0000t\u0000 \u0000o\u0000f\u0000 \u0000c\u0000o\u0000m\u0000p\u0000l\u0000e\u0000x\u0000i\u0000t\u0000y\u0000 \u0000t\u0000o\u0000 \u0000t\u0000h\u0000e\u0000 \u0000i\u0000m\u0000p\u0000l\u0000e\u0000m\u0000e\u0000n\u0000t\u0000a\u0000t\u0000i\u0000o\u0000n\u0000 \u0000o\u0000f\u0000 \u0000t\u0000i\u0000m\u0000e\u0000k\u0000e\u0000e\u0000p\u0000i\u0000n\u0000g\u0000 \u0000s\u0000y\u0000s\u0000t\u0000e\u0000m\u0000s\u0000 \u0000a\u0000n\u0000d\u0000 \u0000h\u0000a\u0000v\u0000e\u0000 \u0000[\u0000d\u0000u\u0000b\u0000i\u0000o\u0000u\u0000s\u0000 \u0000v\u0000a\u0000l\u0000u\u0000e\u0000]\u0000(\u0000 \u0000\\\u0000n\u0000 \u0000I\u0000 \u0000t\u0000h\u0000i\u0000n\u0000k\u0000 \u0000s\u0000e\u0000a\u0000s\u0000o\u0000n\u0000a\u0000l\u0000 \u0000s\u0000h\u0000i\u0000f\u0000t\u0000i\u0000n\u0000g\u0000 \u0000t\u0000i\u0000m\u0000e\u0000 \u0000m\u0000a\u0000d\u0000e\u0000 \u0000s\u0000e\u0000n\u0000s\u0000e\u0000 \u0000i\u0000n\u0000 \u0000t\u0000h\u0000e\u0000 \u0000p\u0000r\u0000e\u0000-\u0000e\u0000l\u0000e\u0000c\u0000t\u0000r\u0000i\u0000c\u0000 \u0000p\u0000a\u0000s\u0000t\u0000,\u0000 \u0000w\u0000h\u0000e\u0000n\u0000 \u0000t\u0000i\u0000m\u0000e\u0000k\u0000e\u0000e\u0000p\u0000i\u0000n\u0000g\u0000 \u0000w\u0000a\u0000s\u0000 \u0000m\u0000o\u0000r\u0000e\u0000 \u0000f\u0000l\u0000e\u0000x\u0000i\u0000b\u0000l\u0000e\u0000 \u0000a\u0000n\u0000d\u0000 \u0000a\u0000r\u0000t\u0000i\u0000f\u0000i\u0000c\u0000i\u0000a\u0000l\u0000 \u0000l\u0000i\u0000g\u0000h\u0000t\u0000 \u0000w\u0000a\u0000s\u0000 \u0000i\u0000n\u0000e\u0000f\u0000f\u0000i\u0000c\u0000i\u0000e\u0000n\u0000t\u0000 \u0000a\u0000n\u0000d\u0000 \u0000o\u0000f\u0000t\u0000e\u0000n\u0000 \u0000d\u0000a\u0000n\u0000g\u0000e\u0000r\u0000o\u0000u\u0000s\u0000.\u0000 \u0000\\\u0000n\u0000 \u0000N\u0000o\u0000w\u0000 \u0000w\u0000e\u0000 \u0000h\u0000a\u0000v\u0000e\u0000 \u0000m\u0000a\u0000c\u0000h\u0000i\u0000n\u0000e\u0000s\u0000 \u0000t\u0000h\u0000a\u0000t\u0000 \u0000w\u0000o\u0000r\u0000k\u0000 \u0000e\u0000a\u0000s\u0000i\u0000l\u0000y\u0000 \u0000w\u0000i\u0000t\u0000h\u0000 \u0000s\u0000i\u0000m\u0000p\u0000l\u0000e\u0000 \u0000t\u0000i\u0000m\u0000e\u0000k\u0000e\u0000e\u0000p\u0000i\u0000n\u0000g\u0000 \u0000r\u0000u\u0000l\u0000e\u0000s\u0000,\u0000 \u0000a\u0000n\u0000d\u0000 \u0000i\u0000t\u0000'\u0000s\u0000 \u0000m\u0000o\u0000r\u0000e\u0000 \u0000b\u0000e\u0000n\u0000e\u0000f\u0000i\u0000c\u0000i\u0000a\u0000l\u0000 \u0000t\u0000o\u0000 \u0000s\u0000p\u0000e\u0000n\u0000d\u0000 \u0000a\u0000 \u0000s\u0000m\u0000a\u0000l\u0000l\u0000 \u0000a\u0000m\u0000o\u0000u\u0000n\u0000t\u0000 \u0000o\u0000n\u0000 \u0000e\u0000n\u0000e\u0000r\u0000g\u0000y\u0000 \u0000f\u0000o\u0000r\u0000 \u0000l\u0000i\u0000g\u0000h\u0000t\u0000i\u0000n\u0000g\u0000,\u0000 \u0000a\u0000n\u0000d\u0000 \u0000s\u0000a\u0000v\u0000e\u0000 \u0000t\u0000h\u0000e\u0000 \u0000l\u0000a\u0000r\u0000g\u0000e\u0000r\u0000 \u0000c\u0000o\u0000s\u0000t\u0000 \u0000o\u0000f\u0000 \u0000e\u0000n\u0000g\u0000i\u0000n\u0000e\u0000e\u0000r\u0000i\u0000n\u0000g\u0000 \u0000t\u0000h\u0000i\u0000n\u0000g\u0000s\u0000 \u0000t\u0000o\u0000 \u0000w\u0000o\u0000r\u0000k\u0000 \u0000w\u0000i\u0000t\u0000h\u0000 \u0000t\u0000h\u0000e\u0000 \u0000c\u0000o\u0000m\u0000p\u0000l\u0000e\u0000x\u0000 \u0000t\u0000i\u0000m\u0000e\u0000k\u0000e\u0000e\u0000p\u0000i\u0000n\u0000g\u0000 \u0000r\u0000u\u0000l\u0000e\u0000s\u0000,\u0000 \u0000a\u0000s\u0000 \u0000w\u0000e\u0000l\u0000l\u0000 \u0000a\u0000s\u0000 \u0000s\u0000a\u0000v\u0000i\u0000n\u0000g\u0000 \u0000t\u0000h\u0000e\u0000 \u0000i\u0000r\u0000r\u0000i\u0000t\u0000a\u0000t\u0000i\u0000o\u0000n\u0000 \u0000t\u0000o\u0000 \u0000h\u0000u\u0000m\u0000a\u0000n\u0000s\u0000.\u0000 \u0000\\\u0000n\u0000 \u0000L\u0000i\u0000g\u0000h\u0000t\u0000i\u0000n\u0000g\u0000 \u0000h\u0000a\u0000s\u0000 \u0000g\u0000o\u0000t\u0000t\u0000e\u0000n\u0000 \u0000m\u0000u\u0000c\u0000h\u0000 \u0000m\u0000o\u0000r\u0000e\u0000 \u0000e\u0000f\u0000f\u0000i\u0000c\u0000i\u0000e\u0000n\u0000t\u0000 \u0000o\u0000v\u0000e\u0000r\u0000 \u0000t\u0000i\u0000m\u0000e\u0000;\u0000 \u0000w\u0000e\u0000 \u0000c\u0000a\u0000n\u0000 \u0000s\u0000q\u0000u\u0000e\u0000e\u0000z\u0000e\u0000 \u0000o\u0000u\u0000t\u0000 \u0000a\u0000 \u0000l\u0000o\u0000t\u0000 \u0000m\u0000o\u0000r\u0000e\u0000 \u0000p\u0000h\u0000o\u0000t\u0000o\u0000n\u0000s\u0000 \u0000p\u0000e\u0000r\u0000 \u0000u\u0000n\u0000i\u0000t\u0000 \u0000o\u0000f\u0000 \u0000e\u0000n\u0000e\u0000r\u0000g\u0000y\u0000 \u0000f\u0000r\u0000o\u0000m\u0000 \u0000a\u0000 \u00002\u00000\u00001\u00002\u0000 \u0000C\u0000F\u0000L\u0000 \u0000o\u0000r\u0000 \u0000L\u0000E\u0000D\u0000 \u0000t\u0000h\u0000a\u0000n\u0000 \u0000a\u0000 \u0000c\u0000a\u0000n\u0000d\u0000l\u0000e\u0000 \u0000c\u0000o\u0000u\u0000l\u0000d\u0000 \u0000i\u0000n\u0000 \u00001\u00007\u00008\u00000\u0000,\u0000 \u0000o\u0000r\u0000 \u0000a\u0000 \u0000l\u0000i\u0000g\u0000h\u0000t\u0000b\u0000u\u0000l\u0000b\u0000 \u0000c\u0000o\u0000u\u0000l\u0000d\u0000 \u0000i\u0000n\u0000 \u00001\u00009\u00005\u00000\u0000.\u0000 \u0000\\\u0000n\u0000 \u0000T\u0000h\u0000e\u0000r\u0000e\u0000'\u0000s\u0000 \u0000a\u0000 \u0000l\u0000o\u0000t\u0000 \u0000o\u0000f\u0000 \u0000r\u0000o\u0000o\u0000m\u0000 \u0000f\u0000o\u0000r\u0000 \u0000i\u0000m\u0000p\u0000r\u0000o\u0000v\u0000e\u0000m\u0000e\u0000n\u0000t\u0000 \u0000i\u0000n\u0000 \u0000h\u0000o\u0000w\u0000 \u0000w\u0000e\u0000 \u0000u\u0000s\u0000e\u0000 \u0000l\u0000i\u0000g\u0000h\u0000t\u0000s\u0000 \u0000a\u0000s\u0000 \u0000w\u0000e\u0000l\u0000l\u0000;\u0000 \u0000a\u0000s\u0000 \u0000l\u0000i\u0000g\u0000h\u0000t\u0000i\u0000n\u0000g\u0000 \u0000c\u0000o\u0000n\u0000t\u0000r\u0000o\u0000l\u0000 \u0000g\u0000e\u0000t\u0000s\u0000 \u0000m\u0000o\u0000r\u0000e\u0000 \u0000i\u0000n\u0000t\u0000e\u0000l\u0000l\u0000i\u0000g\u0000e\u0000n\u0000t\u0000,\u0000 \u0000t\u0000h\u0000e\u0000r\u0000e\u0000 \u0000w\u0000i\u0000l\u0000l\u0000 \u0000b\u0000e\u0000 \u0000a\u0000 \u0000l\u0000o\u0000t\u0000 \u0000o\u0000f\u0000 \u0000s\u0000a\u0000v\u0000i\u0000n\u0000g\u0000s\u0000 \u0000f\u0000r\u0000o\u0000m\u0000 \u0000n\u0000o\u0000t\u0000 \u0000i\u0000l\u0000l\u0000u\u0000m\u0000i\u0000n\u0000a\u0000t\u0000i\u0000n\u0000g\u0000 \u0000i\u0000n\u0000a\u0000c\u0000t\u0000i\u0000v\u0000e\u0000 \u0000s\u0000p\u0000a\u0000c\u0000e\u0000s\u0000 \u0000c\u0000o\u0000n\u0000s\u0000t\u0000a\u0000n\u0000t\u0000l\u0000y\u0000.\u0000\"\u0000,\u0000\"\u0000c\u0000o\u0000n\u0000t\u0000e\u0000n\u0000t\u0000_\u0000l\u0000e\u0000n\u0000\"\u0000:\u00001\u00007\u00008\u0000,\u0000\"\u0000s\u0000u\u0000m\u0000m\u0000a\u0000r\u0000y\u0000\"\u0000:\u0000\"\u0000S\u0000h\u0000i\u0000f\u0000t\u0000i\u0000n\u0000g\u0000 \u0000s\u0000e\u0000a\u0000s\u0000o\u0000n\u0000a\u0000l\u0000 \u0000t\u0000i\u0000m\u0000e\u0000 \u0000i\u0000s\u0000 \u0000n\u0000o\u0000 \u0000l\u0000o\u0000n\u0000g\u0000e\u0000r\u0000 \u0000w\u0000o\u0000r\u0000t\u0000h\u0000 \u0000i\u0000t\u0000.\u0000\"\u0000,\u0000\"\u0000s\u0000u\u0000m\u0000m\u0000a\u0000r\u0000y\u0000_\u0000l\u0000e\u0000n\u0000\"\u0000:\u00008\u0000,\u0000\"\u0000i\u0000d\u0000\"\u0000:\u0000\"\u0000c\u00006\u00009\u0000a\u0000l\u00003\u0000r\u0000\"\u0000,\u0000\"\u0000s\u0000u\u0000b\u0000r\u0000e\u0000d\u0000d\u0000i\u0000t\u0000\"\u0000:\u0000\"\u0000m\u0000a\u0000t\u0000h\u0000\"\u0000,\u0000\"\u0000s\u0000u\u0000b\u0000r\u0000e\u0000d\u0000d\u0000i\u0000t\u0000_\u0000i\u0000d\u0000\"\u0000:\u0000\"\u0000t\u00005\u0000_\u00002\u0000q\u0000h\u00000\u0000n\u0000\"\u0000}\u0000\n"
     ]
    },
    {
     "name": "stderr",
     "output_type": "stream",
     "text": [
      "                                                                                "
     ]
    }
   ],
   "source": [
    "# The same example, this time using map and reduce from the Spark API, and loading the text file from HDFS.\n",
    "\n",
    "lines = spark_context.textFile(\"hdfs://192.168.2.156:9000/data/reddit/reddit_50k.json\")\n",
    "print(lines.first())"
   ]
  },
  {
   "cell_type": "markdown",
   "id": "2c388e54-f3ff-418e-865e-618c7194132f",
   "metadata": {},
   "source": [
    "## Create a dataframe to analyse the posts line by line"
   ]
  },
  {
   "cell_type": "code",
   "execution_count": 3,
   "id": "955d8c13-cf33-45c4-87b9-471bba476da4",
   "metadata": {},
   "outputs": [
    {
     "name": "stderr",
     "output_type": "stream",
     "text": [
      "[Stage 1:=======================================================> (29 + 1) / 30]"
     ]
    },
    {
     "name": "stdout",
     "output_type": "stream",
     "text": [
      "root\n",
      " |-- _corrupt_record: string (nullable = true)\n",
      " |-- author: string (nullable = true)\n",
      " |-- body: string (nullable = true)\n",
      " |-- content: string (nullable = true)\n",
      " |-- content_len: long (nullable = true)\n",
      " |-- id: string (nullable = true)\n",
      " |-- normalizedBody: string (nullable = true)\n",
      " |-- subreddit: string (nullable = true)\n",
      " |-- subreddit_id: string (nullable = true)\n",
      " |-- summary: string (nullable = true)\n",
      " |-- summary_len: long (nullable = true)\n",
      " |-- title: string (nullable = true)\n",
      "\n"
     ]
    },
    {
     "name": "stderr",
     "output_type": "stream",
     "text": [
      "                                                                                "
     ]
    }
   ],
   "source": [
    "from pyspark.sql import SparkSession\n",
    "\n",
    "# Initialize Spark Session\n",
    "# spark = SparkSession.builder.appName(\"RedditJSONProcessing\").getOrCreate()\n",
    "\n",
    "# Load JSON file into a Spark DataFrame\n",
    "df = spark_session.read.json(\"hdfs://192.168.2.156:9000/data/reddit/reddit_500k.json\")\n",
    "\n",
    "# Show schema to understand the structure\n",
    "df.printSchema()\n",
    "\n",
    "# Show first few rows to inspect data\n",
    "# df.show(5, truncate=False)\n"
   ]
  },
  {
   "cell_type": "markdown",
   "id": "d529b0ec-7072-44c4-ad36-14a1417a1817",
   "metadata": {},
   "source": [
    "## Count Total Posts"
   ]
  },
  {
   "cell_type": "code",
   "execution_count": 4,
   "id": "798b8416-232f-47f0-a884-1a78b5a2c475",
   "metadata": {},
   "outputs": [
    {
     "name": "stderr",
     "output_type": "stream",
     "text": [
      "[Stage 2:=======================================================> (29 + 1) / 30]"
     ]
    },
    {
     "name": "stdout",
     "output_type": "stream",
     "text": [
      "Total Posts: 1000001\n"
     ]
    },
    {
     "name": "stderr",
     "output_type": "stream",
     "text": [
      "                                                                                "
     ]
    }
   ],
   "source": [
    "print(f\"Total Posts: {df.count()}\")\n"
   ]
  },
  {
   "cell_type": "markdown",
   "id": "2682b100-d96f-4f0e-abe7-90d2a8bebb5c",
   "metadata": {},
   "source": [
    "## How many Subreddits do exist?"
   ]
  },
  {
   "cell_type": "code",
   "execution_count": 5,
   "id": "3ae10602-3066-4837-b87e-dbf81fae1425",
   "metadata": {},
   "outputs": [
    {
     "name": "stderr",
     "output_type": "stream",
     "text": [
      "[Stage 7:>                                                          (0 + 1) / 1]"
     ]
    },
    {
     "name": "stdout",
     "output_type": "stream",
     "text": [
      "Unique Subreddits: 9610\n"
     ]
    },
    {
     "name": "stderr",
     "output_type": "stream",
     "text": [
      "                                                                                "
     ]
    }
   ],
   "source": [
    "unique_subreddits = df.select(\"subreddit\").distinct().count()\n",
    "print(f\"Unique Subreddits: {unique_subreddits}\")\n"
   ]
  },
  {
   "cell_type": "code",
   "execution_count": 6,
   "id": "a6f20027-72e2-4b5d-b1df-ebcf71d061bf",
   "metadata": {},
   "outputs": [
    {
     "name": "stderr",
     "output_type": "stream",
     "text": [
      "[Stage 13:>                                                         (0 + 1) / 1]"
     ]
    },
    {
     "name": "stdout",
     "output_type": "stream",
     "text": [
      "+-----------------+------+\n",
      "|subreddit        |count |\n",
      "+-----------------+------+\n",
      "|NULL             |501789|\n",
      "|AskReddit        |117305|\n",
      "|leagueoflegends  |12088 |\n",
      "|AdviceAnimals    |9413  |\n",
      "|funny            |8578  |\n",
      "|politics         |8005  |\n",
      "|gaming           |7911  |\n",
      "|pics             |7803  |\n",
      "|atheism          |6766  |\n",
      "|explainlikeimfive|5701  |\n",
      "+-----------------+------+\n",
      "only showing top 10 rows\n",
      "\n"
     ]
    },
    {
     "name": "stderr",
     "output_type": "stream",
     "text": [
      "                                                                                "
     ]
    }
   ],
   "source": [
    "from pyspark.sql.functions import col, count\n",
    "\n",
    "df.groupBy(\"subreddit\").count().orderBy(col(\"count\").desc()).show(10, False)\n"
   ]
  },
  {
   "cell_type": "markdown",
   "id": "fdccd847-fc1a-4d1b-a57b-9a23483100bb",
   "metadata": {},
   "source": [
    "-- We see that many post are not assigned to a Subreddit, since we want to train a Classification model, we delete the NULL post --"
   ]
  },
  {
   "cell_type": "code",
   "execution_count": 7,
   "id": "010ef1f9-9c85-4b1a-9b05-83c2ab80919b",
   "metadata": {},
   "outputs": [
    {
     "name": "stderr",
     "output_type": "stream",
     "text": [
      "[Stage 16:>                                                         (0 + 1) / 1]"
     ]
    },
    {
     "name": "stdout",
     "output_type": "stream",
     "text": [
      "Total Posts After Filtering: 498212\n"
     ]
    },
    {
     "name": "stderr",
     "output_type": "stream",
     "text": [
      "                                                                                "
     ]
    }
   ],
   "source": [
    "from pyspark.sql.functions import col\n",
    "\n",
    "# Filter out rows where subreddit is NULL\n",
    "df_filtered = df.filter(col(\"subreddit\").isNotNull())\n",
    "\n",
    "# Show first few rows after filtering\n",
    "# df_filtered.show(5, truncate=False)\n",
    "\n",
    "# Count remaining rows\n",
    "print(f\"Total Posts After Filtering: {df_filtered.count()}\")\n"
   ]
  },
  {
   "cell_type": "markdown",
   "id": "595011a3-7885-4dea-ad15-a6224a8abf27",
   "metadata": {},
   "source": [
    "## To prepare the Data for our ML Classification Model, we use the columns summary and content"
   ]
  },
  {
   "cell_type": "code",
   "execution_count": 8,
   "id": "92ddbad7-e2f5-49a2-83a1-f59953cb1027",
   "metadata": {},
   "outputs": [
    {
     "data": {
      "text/plain": [
       "DataFrame[subreddit: string, summary: string, content: string]"
      ]
     },
     "execution_count": 8,
     "metadata": {},
     "output_type": "execute_result"
    }
   ],
   "source": [
    "from pyspark.sql import SparkSession\n",
    "from pyspark.sql.functions import col\n",
    "\n",
    "# Filter out NULL subreddit, summary, or content\n",
    "df_filtered = df.filter((col(\"subreddit\").isNotNull()) & (col(\"summary\").isNotNull()) & (col(\"content\").isNotNull()))\n",
    "\n",
    "# Show filtered data\n",
    "df_filtered.select(\"subreddit\", \"summary\", \"content\") # .show(5, truncate=False)\n"
   ]
  },
  {
   "cell_type": "markdown",
   "id": "a71a8547-ff5d-425d-8787-f5a06bc7933b",
   "metadata": {},
   "source": [
    "## We have to make the Text understandable for the algorithm\n",
    "\n",
    "1. We first tokenize the the columns\n",
    "2. Remove stop words, since they do not add information to the text\n",
    "3. We convert the Text with TF-IDF to numbers"
   ]
  },
  {
   "cell_type": "code",
   "execution_count": 9,
   "id": "a5f5d6e9-40b1-498d-b9c2-e48ed53478c6",
   "metadata": {},
   "outputs": [],
   "source": [
    "from pyspark.ml.feature import Tokenizer, StopWordsRemover, HashingTF, IDF, StringIndexer, VectorAssembler\n",
    "\n",
    "# Tokenize summary and content\n",
    "tokenizer = Tokenizer(inputCol=\"summary\", outputCol=\"summary_tokens\")\n",
    "tokenizer2 = Tokenizer(inputCol=\"content\", outputCol=\"content_tokens\")\n",
    "\n",
    "# Remove stopwords\n",
    "stopwords_remover = StopWordsRemover(inputCol=\"summary_tokens\", outputCol=\"summary_clean\")\n",
    "stopwords_remover2 = StopWordsRemover(inputCol=\"content_tokens\", outputCol=\"content_clean\")\n",
    "\n",
    "# Convert words to numerical features using TF-IDF\n",
    "hashing_tf = HashingTF(inputCol=\"summary_clean\", outputCol=\"summary_tf\", numFeatures=1000)\n",
    "idf = IDF(inputCol=\"summary_tf\", outputCol=\"summary_features\")\n",
    "\n",
    "hashing_tf2 = HashingTF(inputCol=\"content_clean\", outputCol=\"content_tf\", numFeatures=1000)\n",
    "idf2 = IDF(inputCol=\"content_tf\", outputCol=\"content_features\")\n",
    "\n",
    "# Convert subreddit (text label) into a numerical label\n",
    "label_indexer = StringIndexer(inputCol=\"subreddit\", outputCol=\"label\")\n",
    "\n",
    "# Combine summary and content features\n",
    "feature_assembler = VectorAssembler(inputCols=[\"summary_features\", \"content_features\"], outputCol=\"features\")\n"
   ]
  },
  {
   "cell_type": "code",
   "execution_count": null,
   "id": "7d768be0-7041-48a0-9126-10b7857b53ef",
   "metadata": {},
   "outputs": [
    {
     "name": "stderr",
     "output_type": "stream",
     "text": [
      "[Stage 28:=>                                                      (1 + 12) / 30]"
     ]
    }
   ],
   "source": [
    "from pyspark.ml.classification import LogisticRegression\n",
    "from pyspark.ml import Pipeline\n",
    "\n",
    "# Split data into training and test sets\n",
    "# train_data, test_data = df_filtered.randomSplit([0.8, 0.2], seed=42)\n",
    "train_data, test_data = df_filtered.sample(fraction=0.2, seed=42).randomSplit([0.8, 0.2])\n",
    "\n",
    "\n",
    "# Define the classification model\n",
    "classifier = LogisticRegression(featuresCol=\"features\", labelCol=\"label\", maxIter=10)\n",
    "\n",
    "# Create a pipeline to apply all transformations and train the model\n",
    "pipeline = Pipeline(stages=[tokenizer, tokenizer2, stopwords_remover, stopwords_remover2,\n",
    "                            hashing_tf, idf, hashing_tf2, idf2, label_indexer, feature_assembler, classifier])\n",
    "\n",
    "# Train the model\n",
    "model = pipeline.fit(train_data)\n",
    "\n",
    "# Save the trained model\n",
    "# model.save(\"hdfs://192.168.2.156:9000/data/reddit/model/reddit_text_classifier\")\n"
   ]
  },
  {
   "cell_type": "code",
   "execution_count": null,
   "id": "dfda02fd-4a56-4c4a-8fd4-05e552b85694",
   "metadata": {},
   "outputs": [
    {
     "name": "stderr",
     "output_type": "stream",
     "text": [
      "25/03/09 15:40:01 ERROR TaskSchedulerImpl: Lost executor 24 on 192.168.2.11: Command exited with code 52\n",
      "25/03/09 15:40:37 ERROR TaskSchedulerImpl: Lost executor 25 on 192.168.2.218: Command exited with code 52\n",
      "25/03/09 15:40:43 ERROR TaskSchedulerImpl: Lost executor 23 on 192.168.2.218: Command exited with code 52\n",
      "25/03/09 15:40:52 ERROR TaskSchedulerImpl: Lost executor 30 on 192.168.2.237: Command exited with code 52\n",
      "25/03/09 15:41:00 ERROR TaskSchedulerImpl: Lost executor 26 on 192.168.2.178: Command exited with code 52\n",
      "25/03/09 15:41:05 ERROR TaskSchedulerImpl: Lost executor 27 on 192.168.2.57: Command exited with code 52\n",
      "[Stage 26:>                                                        (0 + 1) / 30]"
     ]
    }
   ],
   "source": [
    "from pyspark.ml.evaluation import MulticlassClassificationEvaluator\n",
    "\n",
    "# Make predictions on test data\n",
    "predictions = model.transform(test_data)\n",
    "\n",
    "# Evaluate model accuracy\n",
    "evaluator = MulticlassClassificationEvaluator(labelCol=\"label\", predictionCol=\"prediction\", metricName=\"accuracy\")\n",
    "accuracy = evaluator.evaluate(predictions)\n",
    "\n",
    "print(f\"Model Accuracy: {accuracy:.4f}\")\n"
   ]
  },
  {
   "cell_type": "code",
   "execution_count": null,
   "id": "d0b65ad2-c53e-438c-878e-e5b2b416302c",
   "metadata": {},
   "outputs": [],
   "source": []
  },
  {
   "cell_type": "code",
   "execution_count": null,
   "id": "a2c12129-08fd-48d2-bdac-983d5af5c9b8",
   "metadata": {
    "editable": true,
    "slideshow": {
     "slide_type": ""
    },
    "tags": []
   },
   "outputs": [],
   "source": [
    "# release the cores for another application!\n",
    "spark_context.stop()"
   ]
  },
  {
   "cell_type": "code",
   "execution_count": null,
   "id": "652336a3-1a25-4616-81ce-ac2cd1e1874b",
   "metadata": {},
   "outputs": [],
   "source": []
  },
  {
   "cell_type": "code",
   "execution_count": null,
   "id": "e7d7ba16-375f-4236-bbee-1776bc00f0f5",
   "metadata": {},
   "outputs": [],
   "source": []
  }
 ],
 "metadata": {
  "kernelspec": {
   "display_name": "Python 3 (ipykernel)",
   "language": "python",
   "name": "python3"
  },
  "language_info": {
   "codemirror_mode": {
    "name": "ipython",
    "version": 3
   },
   "file_extension": ".py",
   "mimetype": "text/x-python",
   "name": "python",
   "nbconvert_exporter": "python",
   "pygments_lexer": "ipython3",
   "version": "3.10.12"
  }
 },
 "nbformat": 4,
 "nbformat_minor": 5
}
